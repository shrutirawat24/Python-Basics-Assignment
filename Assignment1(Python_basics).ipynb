{
  "nbformat": 4,
  "nbformat_minor": 0,
  "metadata": {
    "colab": {
      "provenance": [],
      "authorship_tag": "ABX9TyMjPmQze2YYi6RBp0hBeYDU",
      "include_colab_link": true
    },
    "kernelspec": {
      "name": "python3",
      "display_name": "Python 3"
    },
    "language_info": {
      "name": "python"
    }
  },
  "cells": [
    {
      "cell_type": "markdown",
      "metadata": {
        "id": "view-in-github",
        "colab_type": "text"
      },
      "source": [
        "<a href=\"https://colab.research.google.com/github/shrutirawat24/Python-Basics-Assignment/blob/main/Assignment1(Python_basics).ipynb\" target=\"_parent\"><img src=\"https://colab.research.google.com/assets/colab-badge.svg\" alt=\"Open In Colab\"/></a>"
      ]
    },
    {
      "cell_type": "markdown",
      "source": [
        "#Theory question-answers"
      ],
      "metadata": {
        "id": "jmFojCG-q-8x"
      }
    },
    {
      "cell_type": "markdown",
      "source": [
        "**1. What is Python, and why is it popular?**\n",
        "\n",
        "Ans -\n",
        "Python is a set of instructions that we give in the form of a Program to our computer to perform any specific task. It is a Programming language.\n",
        "\n",
        "It has features like simplicity and versatility which make it accessible to beginners while offering advanced capabilities for seasoned developers.Also it has simple syntax and is code readability. Hence providing an ease in readability and learning."
      ],
      "metadata": {
        "id": "mNCPK153rM34"
      }
    },
    {
      "cell_type": "markdown",
      "source": [
        "**2. What is an interpreter in Python?**\n",
        "\n",
        "Ans -A Python interpreter is a computer program that takes the Python code and converts it into machine code.\n",
        "\n",
        "\n"
      ],
      "metadata": {
        "id": "JFe1csPbtSdc"
      }
    },
    {
      "cell_type": "markdown",
      "source": [
        "**3. What are pre-defined keywords in Python?**\n",
        "\n",
        "Ans -Python has a set of keywords that are reserved words that cannot be used as variable names, function names, or any other identifiers like:\n",
        "\n",
        "* and\n",
        "* as\n",
        "* assert\n",
        "* break\n",
        "* continue\n",
        "* def\n",
        "* del\n",
        "* elif\n",
        "* else\n",
        "* except\n",
        "* False\n",
        "* if\n",
        "* for\n",
        "* from\n",
        "* if\n",
        "* import\n",
        "* in\n",
        "* is\n",
        "* lambda\n",
        "* None\n",
        "* not\n",
        "* or\n",
        "* pass\n",
        "* raise\n",
        "* return\n",
        "* True\n",
        "* try\n",
        "* while\n",
        "* yield\n"
      ],
      "metadata": {
        "id": "ABapbgKPtnd5"
      }
    },
    {
      "cell_type": "markdown",
      "source": [
        "**4. Can keywords be used as variable names?**\n",
        "\n",
        "Ans -No, keywords can't be used as variable names as they are used to define the syntax and structure of the Python language."
      ],
      "metadata": {
        "id": "mQBq2U7hwN6_"
      }
    },
    {
      "cell_type": "markdown",
      "source": [
        "**5. What is mutability in Python?**\n",
        "\n",
        "Ans- Mutability refers to the modification or change in elements after a period of time they are already performed.The mutability determines whether you can modify the contents such as adding or removing elements, changing the values of existing elements, or reordering the elements."
      ],
      "metadata": {
        "id": "-o2dopZbyII8"
      }
    },
    {
      "cell_type": "markdown",
      "source": [
        "**6.  Why are lists mutable, but tuples are immutable?**\n",
        "\n",
        "Ans - Lists are mutable data types in Python because they allow modifications to be made to their elements after the list is created. This mutability facilitates operations such as adding, removing, or modifying elements within the list even after its initial creation.\n",
        "Tuples are similar to lists in Python, but they have the property of being immutable. Hence once a tuple is created its elements cannot be changed, added or removed."
      ],
      "metadata": {
        "id": "vIKR6JFDz1nn"
      }
    },
    {
      "cell_type": "markdown",
      "source": [
        "**7. What is the difference between “==” and “is” operators in Python?**\n",
        "\n",
        "Ans- The \"==\" operator checks for equality of values which means it evaluates whether the values of two objects are the same. On the other hand, \"is\" operator checks for identity, meaning it determines whether two variables point to the same object in memory."
      ],
      "metadata": {
        "id": "jUaG_AJl1R5p"
      }
    },
    {
      "cell_type": "markdown",
      "source": [
        "**8. What are logical operators in Python?**\n",
        "\n",
        "Ans- Logical operators are used to combine conditional statements, allowing you to perform operations based on multiple conditions. They are special symbols used to carry out computations on values and variables.Like:\n",
        " * and\n",
        " * or\n",
        " * not\n",
        "\n"
      ],
      "metadata": {
        "id": "Ct0BEpHq2MlJ"
      }
    },
    {
      "cell_type": "markdown",
      "source": [
        "**9. What is type casting in Python?**\n",
        "\n",
        "Ans -Type casting is the process of converting the value of one data type to another. This can be done either implicitly or explicitly."
      ],
      "metadata": {
        "id": "lg5k3JlV3DRP"
      }
    },
    {
      "cell_type": "markdown",
      "source": [
        "**10. What is the difference between implicit and explicit type casting?**\n",
        "\n",
        "Ans- In implicit type casting the datatype is converted into another datatype automatically. Users don’t have to involve in this process.\n",
        "\n",
        "whereas in explicit type casting, user involvement is required to convert the variable data type into the required data type."
      ],
      "metadata": {
        "id": "IuzP3orA3YcO"
      }
    },
    {
      "cell_type": "markdown",
      "source": [
        "**11. What is the purpose of conditional statements in Python?**\n",
        "\n",
        "Ans- Conditional Statements are statements that provide a choice for the control flow based on a condition. It means that the control flow of the Python program will be decided based on the outcome of the condition."
      ],
      "metadata": {
        "id": "LeD1osw94I6B"
      }
    },
    {
      "cell_type": "markdown",
      "source": [
        "**12. How does the elif statement work?**\n",
        "\n",
        "Ans- The elif statement is used for if the previous conditions were not true, then trying the other mentioned condition.Like:\n"
      ],
      "metadata": {
        "id": "2IRL1bBy4en0"
      }
    },
    {
      "cell_type": "code",
      "source": [
        "a = 13\n",
        "b = 13\n",
        "if b > a:\n",
        "  print(\"b is greater than a\")\n",
        "elif a == b:\n",
        "  print(\"a and b are equal\")\n",
        ""
      ],
      "metadata": {
        "colab": {
          "base_uri": "https://localhost:8080/"
        },
        "id": "3U5K1ghy8KY3",
        "outputId": "af831b13-0cb0-4d1a-ba0f-cf1321d34fae"
      },
      "execution_count": 5,
      "outputs": [
        {
          "output_type": "stream",
          "name": "stdout",
          "text": [
            "a and b are equal\n"
          ]
        }
      ]
    },
    {
      "cell_type": "markdown",
      "source": [
        "**13. What is the difference between for and while loops?**\n",
        "\n",
        "Ans-\n",
        ">*for loop*\n",
        "1.   It is more structured\n",
        "2.   Initialization is part of the loop syntax\n",
        "3.   The loop variable is automatically updated\n",
        "\n",
        ">*while loop*\n",
        "1.   It is less structured\n",
        "2.   Initialization happens outside the loop\n",
        "3.   The loop variable needs to be manually updated\n",
        "\n",
        "\n",
        "\n",
        "\n"
      ],
      "metadata": {
        "id": "c-wXhNrV7w1X"
      }
    },
    {
      "cell_type": "markdown",
      "source": [
        "**14.  Describe a scenario where a while loop is more suitable than a for loop.**\n",
        "\n",
        "Ans- The for loop iterates through a collection or iterable object or generator function whereas the while statement simply loops until a condition is False.\n",
        "Hence a situation where the number of iterations is unknown, a while loop is more suitable than a for loop."
      ],
      "metadata": {
        "id": "NyLUJ9s8-GwJ"
      }
    },
    {
      "cell_type": "markdown",
      "source": [
        "#Practical question-answers\n"
      ],
      "metadata": {
        "id": "YtoGNiPEAIlY"
      }
    },
    {
      "cell_type": "markdown",
      "source": [
        "**1. Write a Python program to print \"Hello, World.**\n",
        "\n",
        "Ans-\n",
        "\n",
        "---\n",
        "\n",
        "\n",
        "\n"
      ],
      "metadata": {
        "id": "S2fvTM71H_t5"
      }
    },
    {
      "cell_type": "code",
      "source": [
        "print(\"Hello, World!\")"
      ],
      "metadata": {
        "colab": {
          "base_uri": "https://localhost:8080/"
        },
        "id": "IGaROdkAWuO4",
        "outputId": "5c59be39-557a-4e8d-aae6-8f8827e76247"
      },
      "execution_count": 1,
      "outputs": [
        {
          "output_type": "stream",
          "name": "stdout",
          "text": [
            "Hello, World!\n"
          ]
        }
      ]
    },
    {
      "cell_type": "markdown",
      "source": [
        "**2. Write a Python program that displays your name and age.**\n",
        "\n",
        "Ans-\n"
      ],
      "metadata": {
        "id": "zBT_yF81W7zx"
      }
    },
    {
      "cell_type": "code",
      "source": [
        "name = \"Shruti\"\n",
        "age = 21\n",
        "\n",
        "print(\"Name:\", name)\n",
        "print(\"Age:\", age)"
      ],
      "metadata": {
        "colab": {
          "base_uri": "https://localhost:8080/"
        },
        "id": "JDmOrEHzXFfG",
        "outputId": "64a4ac37-5146-4008-a808-8d19f368049e"
      },
      "execution_count": 2,
      "outputs": [
        {
          "output_type": "stream",
          "name": "stdout",
          "text": [
            "Name: Shruti\n",
            "Age: 21\n"
          ]
        }
      ]
    },
    {
      "cell_type": "markdown",
      "source": [
        "**3. Write code to print all the pre-defined keywords in Python using the keyword library.**\n",
        "\n",
        "Ans-\n"
      ],
      "metadata": {
        "id": "YJMAbZFFXSvH"
      }
    },
    {
      "cell_type": "code",
      "source": [
        "\n",
        "\n",
        "# List of Library\n",
        "Library = keyword.kwlist\n",
        "\n",
        "# Print all the libraries\n",
        "print(\"Library:\", Library)"
      ],
      "metadata": {
        "colab": {
          "base_uri": "https://localhost:8080/"
        },
        "id": "HO8wrDawXaka",
        "outputId": "3f507999-d55f-4ac8-db67-9a1dcb987f55"
      },
      "execution_count": 5,
      "outputs": [
        {
          "output_type": "stream",
          "name": "stdout",
          "text": [
            "Library: ['False', 'None', 'True', 'and', 'as', 'assert', 'async', 'await', 'break', 'class', 'continue', 'def', 'del', 'elif', 'else', 'except', 'finally', 'for', 'from', 'global', 'if', 'import', 'in', 'is', 'lambda', 'nonlocal', 'not', 'or', 'pass', 'raise', 'return', 'try', 'while', 'with', 'yield']\n"
          ]
        }
      ]
    },
    {
      "cell_type": "markdown",
      "source": [
        "**4. Write a program that checks if a given word is a Python keyword.**\n",
        "\n",
        "Ans-\n"
      ],
      "metadata": {
        "id": "2QKbwPldYSJB"
      }
    },
    {
      "cell_type": "code",
      "source": [
        "# Input the word\n",
        "word = input(\"Enter a word to check if is a Python keyword: \")\n",
        "\n",
        "# Check if the word is a Python keyword\n",
        "if keyword.iskeyword(word):\n",
        "    print(f\"'{word}' is a Python keyword.\")\n",
        "else:\n",
        "    print(f\"'{word}' is not a Python keyword.\")"
      ],
      "metadata": {
        "colab": {
          "base_uri": "https://localhost:8080/"
        },
        "id": "QlR-tvk-Yb-Y",
        "outputId": "66d05300-28df-4002-c3e9-2e92a5bc62c8"
      },
      "execution_count": 6,
      "outputs": [
        {
          "output_type": "stream",
          "name": "stdout",
          "text": [
            "Enter a word to check if is a Python keyword: as\n",
            "'as' is a Python keyword.\n"
          ]
        }
      ]
    },
    {
      "cell_type": "markdown",
      "source": [
        "**5.Create a list and tuple in Python, and demonstrate how attempting to change an element works differently\n",
        "for each.**\n",
        "\n",
        "Ans-\n",
        "As below can be seen lists are mutable,hence one can change the values of elements in a list whereas,tuple are immutableand one cannot change the values of elements in a tuple after it's created."
      ],
      "metadata": {
        "id": "ClqC_W30Y4Pn"
      }
    },
    {
      "cell_type": "code",
      "source": [
        "# Creating list and tuple\n",
        "list = [10, 20, 30, 40]\n",
        "tuple = (10, 20, 30, 40)\n",
        "\n",
        "# Change an element in the list\n",
        "try:\n",
        "    list[1] = 99\n",
        "    print(\"Updated list:\", list)\n",
        "except TypeError as e:\n",
        "    print(f\"Error while modifying list: {e}\")\n",
        "\n",
        "# Change an element in the tuple\n",
        "try:\n",
        "    tuple[1] = 99\n",
        "    print(\"Updated tuple:\", tuple)\n",
        "except TypeError as e:\n",
        "    print(f\"Error while modifying tuple: {e}\")\n"
      ],
      "metadata": {
        "colab": {
          "base_uri": "https://localhost:8080/"
        },
        "id": "6vBs7wP6Y_x9",
        "outputId": "d401cb8e-c655-4ac7-f58f-9c2bbe3e9561"
      },
      "execution_count": 7,
      "outputs": [
        {
          "output_type": "stream",
          "name": "stdout",
          "text": [
            "Updated list: [10, 99, 30, 40]\n",
            "Error while modifying tuple: 'tuple' object does not support item assignment\n"
          ]
        }
      ]
    },
    {
      "cell_type": "markdown",
      "source": [
        "**6. Write a function to demonstrate the behavior of mutable and immutable arguments.**\n",
        "\n",
        "Ans-"
      ],
      "metadata": {
        "id": "4j6JSt7la439"
      }
    },
    {
      "cell_type": "code",
      "source": [
        "def demonstrate_mutable_immutable(mutable_arg, immutable_arg):\n",
        "\n",
        "    print(\"Before modification:\")\n",
        "    print(f\"Mutable argument (list): {mutable_arg}\")\n",
        "    print(f\"Immutable argument (int): {immutable_arg}\")\n",
        "\n",
        "    # Modify the mutable argument (list)\n",
        "    mutable_arg.append(99)\n",
        "\n",
        "    # Modify the immutable argument (int)\n",
        "    immutable_arg += 1\n",
        "\n",
        "    print(\"\\nAfter modification:\")\n",
        "    print(f\"Mutable argument (list): {mutable_arg}\")\n",
        "    print(f\"Immutable argument (int): {immutable_arg}\")\n",
        "\n",
        "# Test the function\n",
        "list_var = [1, 2, 3] # Changed 'list' to 'list_var' to avoid shadowing the built-in 'list'\n",
        "int_var = 10 # Changed 'int' to 'int_var' to avoid shadowing the built-in 'int'\n",
        "\n",
        "demonstrate_mutable_immutable(list_var, int_var)\n",
        "\n",
        "# Check the original values outside the function\n",
        "print(\"\\nOutside function:\")\n",
        "print(f\"Original mutable argument (list): {list_var}\")\n",
        "print(f\"Original immutable argument (int): {int_var}\")"
      ],
      "metadata": {
        "colab": {
          "base_uri": "https://localhost:8080/"
        },
        "id": "LaloWqIvb68b",
        "outputId": "03a2f4c6-2d05-49b8-9f87-97d94e52d893"
      },
      "execution_count": 12,
      "outputs": [
        {
          "output_type": "stream",
          "name": "stdout",
          "text": [
            "Before modification:\n",
            "Mutable argument (list): [1, 2, 3]\n",
            "Immutable argument (int): 10\n",
            "\n",
            "After modification:\n",
            "Mutable argument (list): [1, 2, 3, 99]\n",
            "Immutable argument (int): 11\n",
            "\n",
            "Outside function:\n",
            "Original mutable argument (list): [1, 2, 3, 99]\n",
            "Original immutable argument (int): 10\n"
          ]
        }
      ]
    },
    {
      "cell_type": "markdown",
      "source": [
        "**7.Write a function to demonstrate the behavior of mutable and immutable arguments.**\n",
        "\n",
        "Ans-\n",
        "\n",
        "\n",
        "*   List item\n",
        "*   List item\n",
        "\n"
      ],
      "metadata": {
        "id": "iCip0g16c208"
      }
    },
    {
      "cell_type": "code",
      "source": [
        "def demonstrate_mutable_immutable(mutable_arg, immutable_arg):\n",
        "\n",
        "    print(\"Before modification:\")\n",
        "    print(f\"Mutable argument (list): {mutable_arg}\")\n",
        "    print(f\"Immutable argument (int): {immutable_arg}\")\n",
        "\n",
        "    # Modify the mutable argument (list)\n",
        "    mutable_arg.append(99)\n",
        "\n",
        "    # Modify the immutable argument (int)\n",
        "    immutable_arg += 1\n",
        "\n",
        "    print(\"\\nAfter modification:\")\n",
        "    print(f\"Mutable argument (list): {mutable_arg}\")\n",
        "    print(f\"Immutable argument (int): {immutable_arg}\")\n",
        "\n",
        "# Test the function\n",
        "list_var = [1, 2, 3] # Changed 'list' to 'list_var' to avoid shadowing the built-in 'list'\n",
        "int_var = 10 # Changed 'int' to 'int_var' to avoid shadowing the built-in 'int'\n",
        "\n",
        "demonstrate_mutable_immutable(list_var, int_var)\n",
        "\n",
        "# Check the original values outside the function\n",
        "print(\"\\nOutside function:\")\n",
        "print(f\"Original mutable argument (list): {list_var}\")\n",
        "print(f\"Original immutable argument (int): {int_var}\")"
      ],
      "metadata": {
        "colab": {
          "base_uri": "https://localhost:8080/"
        },
        "id": "0ZYYMcEMc-Nt",
        "outputId": "37bb431b-f419-4608-d929-185d5bc5e452"
      },
      "execution_count": 13,
      "outputs": [
        {
          "output_type": "stream",
          "name": "stdout",
          "text": [
            "Before modification:\n",
            "Mutable argument (list): [1, 2, 3]\n",
            "Immutable argument (int): 10\n",
            "\n",
            "After modification:\n",
            "Mutable argument (list): [1, 2, 3, 99]\n",
            "Immutable argument (int): 11\n",
            "\n",
            "Outside function:\n",
            "Original mutable argument (list): [1, 2, 3, 99]\n",
            "Original immutable argument (int): 10\n"
          ]
        }
      ]
    },
    {
      "cell_type": "markdown",
      "source": [
        "**8.Write a program to demonstrate the use of logical operators.**\n",
        "\n",
        "Ans-\n"
      ],
      "metadata": {
        "id": "_joBedB_dto0"
      }
    },
    {
      "cell_type": "code",
      "source": [
        "def demonstrate_logical_operators(a, b):\n",
        "    # Using the 'and' operator\n",
        "    print(f\"{a} and {b} = {a and b}\")\n",
        "\n",
        "    # Using the 'or' operator\n",
        "    print(f\"{a} or {b} = {a or b}\")\n",
        "\n",
        "    # Using the 'not' operator\n",
        "    print(f\"not {a} = {not a}\")\n",
        "    print(f\"not {b} = {not b}\")\n",
        "\n",
        "# Test the function with different values for a and b\n",
        "a = True\n",
        "b = False\n",
        "\n",
        "print(\"Demonstrating logical operators with True and False:\")\n",
        "demonstrate_logical_operators(a, b)\n",
        "\n",
        "print(\"\\nDemonstrating logical operators with True and True:\")\n",
        "a = True\n",
        "b = True\n",
        "demonstrate_logical_operators(a, b)\n",
        "\n",
        "print(\"\\nDemonstrating logical operators with False and False:\")\n",
        "a = False\n",
        "b = False\n",
        "demonstrate_logical_operators(a, b)"
      ],
      "metadata": {
        "colab": {
          "base_uri": "https://localhost:8080/"
        },
        "id": "e1GSDSXQd52V",
        "outputId": "5b0a1845-cc8b-47a2-cd77-3875bf024306"
      },
      "execution_count": 14,
      "outputs": [
        {
          "output_type": "stream",
          "name": "stdout",
          "text": [
            "Demonstrating logical operators with True and False:\n",
            "True and False = False\n",
            "True or False = True\n",
            "not True = False\n",
            "not False = True\n",
            "\n",
            "Demonstrating logical operators with True and True:\n",
            "True and True = True\n",
            "True or True = True\n",
            "not True = False\n",
            "not True = False\n",
            "\n",
            "Demonstrating logical operators with False and False:\n",
            "False and False = False\n",
            "False or False = False\n",
            "not False = True\n",
            "not False = True\n"
          ]
        }
      ]
    },
    {
      "cell_type": "markdown",
      "source": [
        "**9. Write a Python program to convert user input from string to integer, float, and boolean types.**\n",
        "\n",
        "Ans-"
      ],
      "metadata": {
        "id": "NbPF5eCmd-_f"
      }
    },
    {
      "cell_type": "code",
      "source": [
        "def convert_input():\n",
        "    # Taking input as a string\n",
        "    user_input = input(\"Enter a value: \")\n",
        "\n",
        "    # Convert to integer\n",
        "    try:\n",
        "        int_value = int(user_input)\n",
        "        print(f\"Integer value: {int_value}\")\n",
        "    except ValueError:\n",
        "        print(\"Cannot convert to integer.\")\n",
        "\n",
        "    # Convert to float\n",
        "    try:\n",
        "        float_value = float(user_input)\n",
        "        print(f\"Float value: {float_value}\")\n",
        "    except ValueError:\n",
        "        print(\"Cannot convert to float.\")\n",
        "\n",
        "    # Convert to boolean\n",
        "    # Convert any non-empty string to True, empty string to False\n",
        "    boolean_value = bool(user_input)\n",
        "    print(f\"Boolean value: {boolean_value}\")\n",
        "\n",
        "# Call the function\n",
        "convert_input()\n"
      ],
      "metadata": {
        "colab": {
          "base_uri": "https://localhost:8080/"
        },
        "id": "PuW6FHlXeKfH",
        "outputId": "729271ce-2438-41b7-d151-00df68489317"
      },
      "execution_count": 15,
      "outputs": [
        {
          "output_type": "stream",
          "name": "stdout",
          "text": [
            "Enter a value: 13\n",
            "Integer value: 13\n",
            "Float value: 13.0\n",
            "Boolean value: True\n"
          ]
        }
      ]
    },
    {
      "cell_type": "markdown",
      "source": [
        "**10. Write code to demonstrate type casting with list elements.**\n",
        "\n",
        "Ans-\n"
      ],
      "metadata": {
        "id": "3AWSBS3beS9L"
      }
    },
    {
      "cell_type": "code",
      "source": [
        "def demonstrate_type_casting():\n",
        "    # A list of mixed-type elements\n",
        "    mixed_list = [\"10\", \"20.5\", \"True\", \"30\", \"False\"]\n",
        "\n",
        "    print(\"Original list:\")\n",
        "    print(mixed_list)\n",
        "\n",
        "    # Convert string elements to integer (where possible)\n",
        "    int_list = [int(item) if item.isdigit() else item for item in mixed_list]\n",
        "\n",
        "    # Convert string elements to float (where possible)\n",
        "    float_list = [float(item) if item.replace('.', '', 1).isdigit() else item for item in mixed_list]\n",
        "\n",
        "    # Convert string elements to boolean\n",
        "    bool_list = [item.lower() == \"true\" if isinstance(item, str) else item for item in mixed_list]\n",
        "\n",
        "    print(\"\\nList after type casting to integer:\")\n",
        "    print(int_list)\n",
        "\n",
        "    print(\"\\nList after type casting to float:\")\n",
        "    print(float_list)\n",
        "\n",
        "    print(\"\\nList after type casting to boolean:\")\n",
        "    print(bool_list)\n",
        "\n",
        "# Call the function\n",
        "demonstrate_type_casting()\n"
      ],
      "metadata": {
        "colab": {
          "base_uri": "https://localhost:8080/"
        },
        "id": "P2mMFcsjeXqB",
        "outputId": "7093d21f-4b53-4b81-97e2-3b7f28ea5ec7"
      },
      "execution_count": 16,
      "outputs": [
        {
          "output_type": "stream",
          "name": "stdout",
          "text": [
            "Original list:\n",
            "['10', '20.5', 'True', '30', 'False']\n",
            "\n",
            "List after type casting to integer:\n",
            "[10, '20.5', 'True', 30, 'False']\n",
            "\n",
            "List after type casting to float:\n",
            "[10.0, 20.5, 'True', 30.0, 'False']\n",
            "\n",
            "List after type casting to boolean:\n",
            "[False, False, True, False, False]\n"
          ]
        }
      ]
    },
    {
      "cell_type": "markdown",
      "source": [
        "**11. Write a program that checks if a number is positive, negative, or zero.**\n",
        "\n",
        "Ans-\n"
      ],
      "metadata": {
        "id": "8rV_WPxcepvx"
      }
    },
    {
      "cell_type": "code",
      "source": [
        "def check_number():\n",
        "    # Get user input\n",
        "    num = float(input(\"Enter a number: \"))\n",
        "\n",
        "    # Check if the number is positive, negative, or zero\n",
        "    if num > 0:\n",
        "        print(f\"{num} is positive.\")\n",
        "    elif num < 0:\n",
        "        print(f\"{num} is negative.\")\n",
        "    else:\n",
        "        print(f\"{num} is zero.\")\n",
        "\n",
        "# Call the function\n",
        "check_number()"
      ],
      "metadata": {
        "colab": {
          "base_uri": "https://localhost:8080/"
        },
        "id": "fQo88f53evAm",
        "outputId": "86c3a9fd-0406-44b2-fa1a-d55ddcb49376"
      },
      "execution_count": 17,
      "outputs": [
        {
          "output_type": "stream",
          "name": "stdout",
          "text": [
            "Enter a number: -15900\n",
            "-15900.0 is negative.\n"
          ]
        }
      ]
    },
    {
      "cell_type": "markdown",
      "source": [
        "**12.   Write a for loop to print numbers from 1 to 10.**\n",
        "\n",
        "Ans-\n",
        "\n"
      ],
      "metadata": {
        "id": "J0HSh-R0e8B7"
      }
    },
    {
      "cell_type": "code",
      "source": [
        "# Using a for loop to print numbers from 1 to 10\n",
        "for num in range(1, 11):\n",
        "    print(num)"
      ],
      "metadata": {
        "colab": {
          "base_uri": "https://localhost:8080/"
        },
        "id": "mC_fWAMYfEfi",
        "outputId": "aa595679-9611-439b-bc41-cc1ce27a6ed2"
      },
      "execution_count": 18,
      "outputs": [
        {
          "output_type": "stream",
          "name": "stdout",
          "text": [
            "1\n",
            "2\n",
            "3\n",
            "4\n",
            "5\n",
            "6\n",
            "7\n",
            "8\n",
            "9\n",
            "10\n"
          ]
        }
      ]
    },
    {
      "cell_type": "markdown",
      "source": [
        "**13.Write a Python program to find the sum of all even numbers between 1 and 50.**\n",
        "\n",
        "Ans-\n"
      ],
      "metadata": {
        "id": "Nyk6PvL_fQ7B"
      }
    },
    {
      "cell_type": "code",
      "source": [
        "# Initialize a variable to store the sum\n",
        "sum_of_even_numbers = 0\n",
        "\n",
        "# Use a for loop to iterate through numbers from 1 to 50\n",
        "for num in range(1, 51):\n",
        "    # Check if the number is even\n",
        "    if num % 2 == 0:\n",
        "        sum_of_even_numbers += num\n",
        "\n",
        "# Print the sum of even numbers\n",
        "print(\"Sum of all even numbers between 1 and 50:\", sum_of_even_numbers)\n"
      ],
      "metadata": {
        "colab": {
          "base_uri": "https://localhost:8080/"
        },
        "id": "70pWvgn4faTZ",
        "outputId": "91068b24-d9ed-4f4d-f89a-d4029dd5ca7e"
      },
      "execution_count": 19,
      "outputs": [
        {
          "output_type": "stream",
          "name": "stdout",
          "text": [
            "Sum of all even numbers between 1 and 50: 650\n"
          ]
        }
      ]
    },
    {
      "cell_type": "markdown",
      "source": [
        "**14. Write a program to reverse a string using a while loop.**\n",
        "\n",
        "Ans-\n",
        "\n"
      ],
      "metadata": {
        "id": "2l7MjetGfg2B"
      }
    },
    {
      "cell_type": "code",
      "source": [
        "def reverse_string(input_string):\n",
        "    reversed_string = \"\"  # Initialize an empty string to store the reversed result\n",
        "    index = len(input_string) - 1  # Start with the last index of the string\n",
        "\n",
        "    # Loop through the string in reverse order using a while loop\n",
        "    while index >= 0:\n",
        "        reversed_string += input_string[index]  # Add the character at the current index\n",
        "        index -= 1  # Move to the previous character\n",
        "\n",
        "    return reversed_string\n",
        "\n",
        "# Example usage\n",
        "input_string = input(\"Enter a string to reverse: \")\n",
        "reversed_str = reverse_string(input_string)\n",
        "print(\"Reversed string:\", reversed_str)\n"
      ],
      "metadata": {
        "colab": {
          "base_uri": "https://localhost:8080/"
        },
        "id": "0ScNmdX0fpYA",
        "outputId": "d983c819-7fdd-4d4f-dd64-af04f253fce0"
      },
      "execution_count": 21,
      "outputs": [
        {
          "output_type": "stream",
          "name": "stdout",
          "text": [
            "Enter a string to reverse: 358\n",
            "Reversed string: 853\n"
          ]
        }
      ]
    },
    {
      "cell_type": "markdown",
      "source": [
        "**15. Write a Python program to calculate the factorial of a number provided by the user using a while loop.**\n",
        "\n",
        "Ans-\n"
      ],
      "metadata": {
        "id": "H_hDs3mYf34T"
      }
    },
    {
      "cell_type": "code",
      "source": [
        "def factorial():\n",
        "    # Get user input\n",
        "    number = int(input(\"Enter a number to calculate its factorial: \"))\n",
        "\n",
        "    # Check if the number is non-negative\n",
        "    if number < 0:\n",
        "        print(\"Factorial is not defined for negative numbers.\")\n",
        "        return\n",
        "\n",
        "    # Initialize variables\n",
        "    result = 1\n",
        "    count = 1\n",
        "\n",
        "    # Use a while loop to calculate the factorial\n",
        "    while count <= number:\n",
        "        result *= count  # Multiply result by the current count\n",
        "        count += 1  # Increment count\n",
        "\n",
        "    # Print the result\n",
        "    print(f\"The factorial of {number} is {result}\")\n",
        "\n",
        "# Call the function\n",
        "factorial()\n"
      ],
      "metadata": {
        "colab": {
          "base_uri": "https://localhost:8080/"
        },
        "id": "RzpO7iGdf-kp",
        "outputId": "2ed9ad17-e6da-44e2-e76e-4edca8e7c1a8"
      },
      "execution_count": 22,
      "outputs": [
        {
          "output_type": "stream",
          "name": "stdout",
          "text": [
            "Enter a number to calculate its factorial: 15\n",
            "The factorial of 15 is 1307674368000\n"
          ]
        }
      ]
    }
  ]
}